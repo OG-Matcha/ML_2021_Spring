{
  "cells": [
    {
      "attachments": {},
      "cell_type": "markdown",
      "metadata": {
        "id": "mz0_QVkxCrX3"
      },
      "source": [
        "# **Homework 1: COVID-19 Cases Prediction (Regression)**"
      ]
    },
    {
      "attachments": {},
      "cell_type": "markdown",
      "metadata": {
        "id": "ZeZnPAiwDRWG"
      },
      "source": [
        "Objectives:\n",
        "* Solve a regression problem with deep neural networks (DNN).\n",
        "* Understand basic DNN training tips.\n",
        "* Get familiar with PyTorch."
      ]
    },
    {
      "attachments": {},
      "cell_type": "markdown",
      "metadata": {
        "id": "wS_4-77xHk44"
      },
      "source": [
        "# **Import Some Packages**"
      ]
    },
    {
      "cell_type": "code",
      "execution_count": 1,
      "metadata": {
        "id": "k-onQd4JNA5H"
      },
      "outputs": [],
      "source": [
        "# PyTorch\n",
        "import torch\n",
        "import torch.nn as nn\n",
        "from torch.utils.data import Dataset, DataLoader\n",
        "\n",
        "# For data preprocess\n",
        "import numpy as np\n",
        "import pandas as pd\n",
        "import csv\n",
        "import os\n",
        "from sklearn.feature_selection import SelectKBest, f_regression\n",
        "\n",
        "# For plotting\n",
        "import matplotlib.pyplot as plt\n",
        "from matplotlib.pyplot import figure\n",
        "\n",
        "myseed = 42069  # set a random seed for reproducibility\n",
        "torch.backends.cudnn.deterministic = True\n",
        "torch.backends.cudnn.benchmark = False\n",
        "\n",
        "np.random.seed(myseed)\n",
        "torch.manual_seed(myseed)\n",
        "\n",
        "if torch.cuda.is_available():\n",
        "    torch.cuda.manual_seed_all(myseed)"
      ]
    },
    {
      "attachments": {},
      "cell_type": "markdown",
      "metadata": {
        "id": "BtE3b6JEH7rw"
      },
      "source": [
        "# **Some Utilities**"
      ]
    },
    {
      "cell_type": "code",
      "execution_count": 2,
      "metadata": {
        "id": "FWMT3uf1NGQp"
      },
      "outputs": [],
      "source": [
        "def get_device():\n",
        "    ''' Get device (if GPU is available, use GPU) '''\n",
        "    return 'cuda' if torch.cuda.is_available() else 'cpu'\n",
        "\n",
        "def plot_learning_curve(loss_record, title=''):\n",
        "    ''' Plot learning curve of DNN (train & dev loss) '''\n",
        "    total_steps = len(loss_record['train'])\n",
        "    x_1 = range(total_steps)\n",
        "    x_2 = x_1[::len(loss_record['train']) // len(loss_record['dev'])]\n",
        "    figure(figsize=(6, 4))\n",
        "    plt.plot(x_1, loss_record['train'], c='tab:red', label='train')\n",
        "    plt.plot(x_2, loss_record['dev'], c='tab:cyan', label='dev')\n",
        "    plt.ylim(0.0, 5.)\n",
        "    plt.xlabel('Training steps')\n",
        "    plt.ylabel('MSE loss')\n",
        "    plt.title('Learning curve of {}'.format(title))\n",
        "    plt.legend()\n",
        "    plt.show()\n",
        "\n",
        "\n",
        "def plot_pred(dv_set, model, device, lim=35., preds=None, targets=None):\n",
        "    ''' Plot prediction of DNN '''\n",
        "    if preds is None or targets is None:\n",
        "        model.eval()\n",
        "        preds, targets = [], []\n",
        "        for x, y in dv_set:\n",
        "            x, y = x.to(device), y.to(device)\n",
        "            with torch.no_grad():\n",
        "                pred = model(x)\n",
        "                preds.append(pred.detach().cpu())\n",
        "                targets.append(y.detach().cpu())\n",
        "        preds = torch.cat(preds, dim=0).numpy()\n",
        "        targets = torch.cat(targets, dim=0).numpy()\n",
        "\n",
        "    figure(figsize=(5, 5))\n",
        "    plt.scatter(targets, preds, c='r', alpha=0.5)\n",
        "    plt.plot([-0.2, lim], [-0.2, lim], c='b')\n",
        "    plt.xlim(-0.2, lim)\n",
        "    plt.ylim(-0.2, lim)\n",
        "    plt.xlabel('ground truth value')\n",
        "    plt.ylabel('predicted value')\n",
        "    plt.title('Ground Truth v.s. Prediction')\n",
        "    plt.show()"
      ]
    },
    {
      "attachments": {},
      "cell_type": "markdown",
      "metadata": {
        "id": "39U_XFX6KOoj"
      },
      "source": [
        "# **Preprocess**\n",
        "\n",
        "We have three kinds of datasets:\n",
        "* `train`: for training\n",
        "* `dev`: for validation\n",
        "* `test`: for testing (w/o target value)"
      ]
    },
    {
      "attachments": {},
      "cell_type": "markdown",
      "metadata": {},
      "source": [
        "## **Feature Selection**"
      ]
    },
    {
      "cell_type": "code",
      "execution_count": 3,
      "metadata": {},
      "outputs": [
        {
          "name": "stdout",
          "output_type": "stream",
          "text": [
            "                 Specs          Score\n",
            "75   tested_positive.1  148069.658278\n",
            "57     tested_positive   69603.872591\n",
            "42        hh_cmnty_cli    9235.492094\n",
            "60      hh_cmnty_cli.1    9209.019558\n",
            "78      hh_cmnty_cli.2    9097.375172\n",
            "43      nohh_cmnty_cli    8395.421300\n",
            "61    nohh_cmnty_cli.1    8343.255927\n",
            "79    nohh_cmnty_cli.2    8208.176435\n",
            "40                 cli    6388.906849\n",
            "58               cli.1    6374.548000\n",
            "76               cli.2    6250.008702\n",
            "41                 ili    5998.922880\n",
            "59               ili.1    5937.588576\n",
            "77               ili.2    5796.947672\n",
            "92  worried_finances.2     833.613191\n",
            "74  worried_finances.1     811.916460\n",
            "56    worried_finances     788.076931\n",
            "87    public_transit.2     686.736539\n",
            "69    public_transit.1     681.562902\n",
            "51      public_transit     678.834789\n",
            "[75, 57, 42, 60, 78, 43, 61, 79, 40, 58, 76, 41, 59, 77, 92, 74, 56]\n"
          ]
        }
      ],
      "source": [
        "data = pd.read_csv(r'./assets/covid.train.csv')\n",
        "x = data[data.columns[1:94]]\n",
        "y = data[data.columns[94]]\n",
        "\n",
        "# Normalisation\n",
        "x = (x - x.min()) / (x.max() - x.min())\n",
        "\n",
        "# Create an instance of SelectKBest without specifying 'k'\n",
        "bestfeatures = SelectKBest(score_func=f_regression)\n",
        "\n",
        "# Compute the scores for all features\n",
        "fit = bestfeatures.fit(x, y)\n",
        "\n",
        "# Convert the scores into a DataFrame\n",
        "dfscores = pd.DataFrame(fit.scores_)\n",
        "\n",
        "# Create a DataFrame of the column names\n",
        "dfcolumns = pd.DataFrame(x.columns)\n",
        "\n",
        "# Concatenate the two DataFrames for better visualization\n",
        "featureScores = pd.concat([dfcolumns,dfscores], axis=1)\n",
        "\n",
        "# Name the DataFrame columns\n",
        "featureScores.columns = ['Specs','Score']  \n",
        "\n",
        "# Print the 20 rows with the highest scores\n",
        "print(featureScores.nlargest(20, 'Score'))  \n",
        "\n",
        "# Print the index of the most important features\n",
        "top_rows = featureScores.nlargest(20, 'Score').index.tolist()[:17]\n",
        "print(top_rows)"
      ]
    },
    {
      "attachments": {},
      "cell_type": "markdown",
      "metadata": {
        "id": "TQ-MdwpLL7Dt"
      },
      "source": [
        "## **Dataset**\n",
        "\n",
        "The `COVID19Dataset` below does:\n",
        "* read `.csv` files\n",
        "* extract features\n",
        "* split `covid.train.csv` into train/dev sets\n",
        "* normalize features\n",
        "\n",
        "Finishing `TODO` below might make you pass medium baseline."
      ]
    },
    {
      "cell_type": "code",
      "execution_count": 4,
      "metadata": {
        "id": "0zlpIp9ANJRU"
      },
      "outputs": [],
      "source": [
        "class COVID19Dataset(Dataset):\n",
        "    ''' Dataset for loading and preprocessing the COVID19 dataset '''\n",
        "    def __init__(self,\n",
        "                 path,\n",
        "                 mode='train',\n",
        "                 target_only=False):\n",
        "        self.mode = mode\n",
        "\n",
        "        # Read data into numpy arrays\n",
        "        with open(path, 'r') as fp:\n",
        "            data = list(csv.reader(fp))\n",
        "            data = np.array(data[1:])[:, 1:].astype(float)\n",
        "        \n",
        "        if not target_only:\n",
        "            feats = list(range(93))\n",
        "        else:\n",
        "            # TODO: Using 40 states & 2 tested_positive features (indices = 57 & 75)\n",
        "            # feats = list(range(40)) + [57, 75]\n",
        "            feats = [75, 57, 42, 60, 78, 43, 61, 79, 40, 58, 76, 41, 59, 77, 92, 74, 56] # use the result above\n",
        "\n",
        "        if mode == 'test':\n",
        "            # Testing data\n",
        "            # data: 893 x 93 (40 states + day 1 (18) + day 2 (18) + day 3 (17))\n",
        "            data = data[:, feats]\n",
        "            self.data = torch.FloatTensor(data)\n",
        "        else:\n",
        "            # Training data (train/dev sets)\n",
        "            # data: 2700 x 94 (40 states + day 1 (18) + day 2 (18) + day 3 (18))\n",
        "            target = data[:, -1]\n",
        "            data = data[:, feats]\n",
        "            \n",
        "            # Splitting training data into train & dev sets\n",
        "            if mode == 'train':\n",
        "                indices = [i for i in range(len(data)) if i % 10 != 0]\n",
        "            elif mode == 'dev':\n",
        "                indices = [i for i in range(len(data)) if i % 10 == 0]\n",
        "            \n",
        "            # Convert data into PyTorch tensors\n",
        "            self.data = torch.FloatTensor(data[indices])\n",
        "            self.target = torch.FloatTensor(target[indices])\n",
        "\n",
        "        # Normalize features (you may remove this part to see what will happen)\n",
        "        self.data[:, 40:] = \\\n",
        "            (self.data[:, 40:] - self.data[:, 40:].mean(dim=0, keepdim=True)) \\\n",
        "            / self.data[:, 40:].std(dim=0, keepdim=True)\n",
        "\n",
        "        self.dim = self.data.shape[1]\n",
        "\n",
        "        print('Finished reading the {} set of COVID19 Dataset ({} samples found, each dim = {})'\n",
        "              .format(mode, len(self.data), self.dim))\n",
        "\n",
        "    def __getitem__(self, index):\n",
        "        # Returns one sample at a time\n",
        "        if self.mode in ['train', 'dev']:\n",
        "            # For training\n",
        "            return (self.data[index], self.target[index])\n",
        "        else:\n",
        "            # For testing (no target)\n",
        "            return self.data[index]\n",
        "\n",
        "    def __len__(self):\n",
        "        # Returns the size of the dataset\n",
        "        return len(self.data)"
      ]
    },
    {
      "attachments": {},
      "cell_type": "markdown",
      "metadata": {
        "id": "AlhTlkE7MDo3"
      },
      "source": [
        "## **DataLoader**\n",
        "\n",
        "A `DataLoader` loads data from a given `Dataset` into batches.\n"
      ]
    },
    {
      "cell_type": "code",
      "execution_count": 5,
      "metadata": {
        "id": "hlhLk5t6MBX3"
      },
      "outputs": [],
      "source": [
        "def prep_dataloader(path, mode, batch_size, n_jobs=0, target_only=False):\n",
        "    ''' Generates a dataset, then is put into a dataloader. '''\n",
        "    dataset = COVID19Dataset(path, mode=mode, target_only=target_only)  # Construct dataset\n",
        "    dataloader = DataLoader(\n",
        "        dataset, batch_size,\n",
        "        shuffle=(mode == 'train'), drop_last=False,\n",
        "        num_workers=n_jobs, pin_memory=True)                            # Construct dataloader\n",
        "    return dataloader"
      ]
    },
    {
      "attachments": {},
      "cell_type": "markdown",
      "metadata": {
        "id": "SGuycwR0MeQB"
      },
      "source": [
        "# **Deep Neural Network**\n",
        "\n",
        "`NeuralNet` is an `nn.Module` designed for regression.\n",
        "The DNN consists of 2 fully-connected layers with ReLU activation.\n",
        "This module also included a function `cal_loss` for calculating loss.\n"
      ]
    },
    {
      "cell_type": "code",
      "execution_count": 6,
      "metadata": {
        "id": "49-uXYovOAI0"
      },
      "outputs": [],
      "source": [
        "class NeuralNet(nn.Module):\n",
        "    ''' A simple fully-connected deep neural network '''\n",
        "    def __init__(self, input_dim):\n",
        "        super(NeuralNet, self).__init__()\n",
        "\n",
        "        # Define your neural network here\n",
        "        # TODO: How to modify this model to achieve better performance?\n",
        "        self.net = nn.Sequential(\n",
        "            nn.Linear(input_dim, 16),\n",
        "            nn.BatchNorm1d(16),\n",
        "            nn.Dropout(p=0.2),\n",
        "            nn.ReLU(),\n",
        "            nn.Linear(16, 1),\n",
        "        )\n",
        "\n",
        "        # Mean squared error loss\n",
        "        self.criterion = nn.MSELoss(reduction='mean')\n",
        "\n",
        "    def forward(self, x):\n",
        "        ''' Given input of size (batch_size x input_dim), compute output of the network '''\n",
        "        return self.net(x).squeeze(1)\n",
        "\n",
        "    def cal_loss(self, pred, target):\n",
        "        ''' Calculate loss '''\n",
        "        # TODO: you may implement L1/L2 regularization here\n",
        "        regularization_loss = 0\n",
        "\n",
        "        for param in model.parameters():\n",
        "            regularization_loss += torch.sum(param ** 2)\n",
        "            \n",
        "        return self.criterion(pred, target) + 0.00075 * regularization_loss"
      ]
    },
    {
      "attachments": {},
      "cell_type": "markdown",
      "metadata": {
        "id": "DvFWVjZ5Nvga"
      },
      "source": [
        "# **Train/Dev/Test**"
      ]
    },
    {
      "attachments": {},
      "cell_type": "markdown",
      "metadata": {
        "id": "MAM8QecJOyqn"
      },
      "source": [
        "## **Training**"
      ]
    },
    {
      "cell_type": "code",
      "execution_count": 7,
      "metadata": {
        "id": "lOqcmYzMO7jB"
      },
      "outputs": [],
      "source": [
        "def train(tr_set, dv_set, model, config, device):\n",
        "    ''' DNN training '''\n",
        "\n",
        "    n_epochs = config['n_epochs']  # Maximum number of epochs\n",
        "\n",
        "    # Setup optimizer\n",
        "    optimizer = getattr(torch.optim, config['optimizer'])(\n",
        "        model.parameters(), **config['optim_hparas'])\n",
        "\n",
        "    min_mse = 1000.\n",
        "    loss_record = {'train': [], 'dev': []}      # for recording training loss\n",
        "    early_stop_cnt = 0\n",
        "    epoch = 0\n",
        "    while epoch < n_epochs:\n",
        "        model.train()                           # set model to training mode\n",
        "        for x, y in tr_set:                     # iterate through the dataloader\n",
        "            optimizer.zero_grad()               # set gradient to zero\n",
        "            x, y = x.to(device), y.to(device)   # move data to device (cpu/cuda)\n",
        "            pred = model(x)                     # forward pass (compute output)\n",
        "            mse_loss = model.cal_loss(pred, y)  # compute loss\n",
        "            mse_loss.backward()                 # compute gradient (backpropagation)\n",
        "            optimizer.step()                    # update model with optimizer\n",
        "            loss_record['train'].append(mse_loss.detach().cpu().item())\n",
        "\n",
        "        # After each epoch, test your model on the validation (development) set.\n",
        "        dev_mse = dev(dv_set, model, device)\n",
        "        if dev_mse < min_mse:\n",
        "            # Save model if your model improved\n",
        "            min_mse = dev_mse\n",
        "            print('Saving model (epoch = {:4d}, loss = {:.4f})'\n",
        "                .format(epoch + 1, min_mse))\n",
        "            torch.save(model.state_dict(), config['save_path'])  # Save model to specified path\n",
        "            early_stop_cnt = 0\n",
        "        else:\n",
        "            early_stop_cnt += 1\n",
        "\n",
        "        epoch += 1\n",
        "        loss_record['dev'].append(dev_mse)\n",
        "        if early_stop_cnt > config['early_stop']:\n",
        "            # Stop training if your model stops improving for \"config['early_stop']\" epochs.\n",
        "            break\n",
        "\n",
        "    print('Finished training after {} epochs'.format(epoch))\n",
        "    return min_mse, loss_record"
      ]
    },
    {
      "attachments": {},
      "cell_type": "markdown",
      "metadata": {
        "id": "0hSd4Bn3O2PL"
      },
      "source": [
        "## **Validation**"
      ]
    },
    {
      "cell_type": "code",
      "execution_count": 8,
      "metadata": {
        "id": "yrxrD3YsN3U2"
      },
      "outputs": [],
      "source": [
        "def dev(dv_set, model, device):\n",
        "    model.eval()                                # set model to evalutation mode\n",
        "    total_loss = 0\n",
        "    for x, y in dv_set:                         # iterate through the dataloader\n",
        "        x, y = x.to(device), y.to(device)       # move data to device (cpu/cuda)\n",
        "        with torch.no_grad():                   # disable gradient calculation\n",
        "            pred = model(x)                     # forward pass (compute output)\n",
        "            mse_loss = model.cal_loss(pred, y)  # compute loss\n",
        "        total_loss += mse_loss.detach().cpu().item() * len(x)  # accumulate loss\n",
        "    total_loss = total_loss / len(dv_set.dataset)              # compute averaged loss\n",
        "\n",
        "    return total_loss"
      ]
    },
    {
      "attachments": {},
      "cell_type": "markdown",
      "metadata": {
        "id": "g0pdrhQAO41L"
      },
      "source": [
        "## **Testing**"
      ]
    },
    {
      "cell_type": "code",
      "execution_count": 9,
      "metadata": {
        "id": "aSBMRFlYN5tB"
      },
      "outputs": [],
      "source": [
        "def test(tt_set, model, device):\n",
        "    model.eval()                                # set model to evalutation mode\n",
        "    preds = []\n",
        "    for x in tt_set:                            # iterate through the dataloader\n",
        "        x = x.to(device)                        # move data to device (cpu/cuda)\n",
        "        with torch.no_grad():                   # disable gradient calculation\n",
        "            pred = model(x)                     # forward pass (compute output)\n",
        "            preds.append(pred.detach().cpu())   # collect prediction\n",
        "    preds = torch.cat(preds, dim=0).numpy()     # concatenate all predictions and convert to a numpy array\n",
        "    return preds"
      ]
    },
    {
      "attachments": {},
      "cell_type": "markdown",
      "metadata": {
        "id": "SvckkF5dvf0j"
      },
      "source": [
        "# **Setup Hyper-parameters**\n",
        "\n",
        "`config` contains hyper-parameters for training and the path to save your model."
      ]
    },
    {
      "cell_type": "code",
      "execution_count": 10,
      "metadata": {
        "id": "NPXpdumwPjE7"
      },
      "outputs": [],
      "source": [
        "device = get_device()                 # get the current available device ('cpu' or 'cuda')\n",
        "os.makedirs('models', exist_ok=True)  # The trained model will be saved to ./models/\n",
        "os.makedirs('output', exist_ok=True)  # The result will be saved to ./output/\n",
        "target_only = True                    # TODO: Using 40 states & 2 tested_positive features\n",
        "\n",
        "# TODO: How to tune these hyper-parameters to improve your model's performance?\n",
        "config = {\n",
        "    'n_epochs': 10000,               # maximum number of epochs\n",
        "    'batch_size': 200,               # mini-batch size for dataloader\n",
        "    'optimizer': 'Adam',             # optimization algorithm (optimizer in torch.optim)\n",
        "    'optim_hparas': {                # hyper-parameters for the optimizer (depends on which optimizer you are using)\n",
        "        'lr': 0.0005,                # learning rate of SGD\n",
        "        # 'momentum': 0.9            # momentum for SGD\n",
        "    },\n",
        "    'early_stop': 1000,               # early stopping epochs (the number epochs since your model's last improvement)\n",
        "    'save_path': './models/model.pth'  # your model will be saved here\n",
        "}"
      ]
    },
    {
      "attachments": {},
      "cell_type": "markdown",
      "metadata": {
        "id": "6j1eOV3TOH-j"
      },
      "source": [
        "# **Load data and model**"
      ]
    },
    {
      "cell_type": "code",
      "execution_count": 11,
      "metadata": {},
      "outputs": [],
      "source": [
        "tr_path = \"./assets/covid.train.csv\"\n",
        "tt_path = \"./assets/covid.test.csv\""
      ]
    },
    {
      "cell_type": "code",
      "execution_count": 12,
      "metadata": {
        "colab": {
          "base_uri": "https://localhost:8080/"
        },
        "id": "eNrYBMmePLKm",
        "outputId": "fcd4f175-4f7e-4306-f33c-5f8285f11dce"
      },
      "outputs": [
        {
          "name": "stdout",
          "output_type": "stream",
          "text": [
            "Finished reading the train set of COVID19 Dataset (2430 samples found, each dim = 17)\n",
            "Finished reading the dev set of COVID19 Dataset (270 samples found, each dim = 17)\n",
            "Finished reading the test set of COVID19 Dataset (893 samples found, each dim = 17)\n"
          ]
        }
      ],
      "source": [
        "tr_set = prep_dataloader(tr_path, 'train', config['batch_size'], target_only=target_only)\n",
        "dv_set = prep_dataloader(tr_path, 'dev', config['batch_size'], target_only=target_only)\n",
        "tt_set = prep_dataloader(tt_path, 'test', config['batch_size'], target_only=target_only)"
      ]
    },
    {
      "cell_type": "code",
      "execution_count": 13,
      "metadata": {
        "id": "FHylSirLP9oh"
      },
      "outputs": [],
      "source": [
        "model = NeuralNet(tr_set.dataset.dim).to(device)  # Construct model and move to device"
      ]
    },
    {
      "attachments": {},
      "cell_type": "markdown",
      "metadata": {
        "id": "sX2B_zgSOPTJ"
      },
      "source": [
        "# **Start Training!**"
      ]
    },
    {
      "cell_type": "code",
      "execution_count": 14,
      "metadata": {
        "colab": {
          "base_uri": "https://localhost:8080/"
        },
        "id": "GrEbUxazQAAZ",
        "outputId": "f4f3bd74-2d97-4275-b69f-6609976b91f9"
      },
      "outputs": [
        {
          "name": "stdout",
          "output_type": "stream",
          "text": [
            "Saving model (epoch =    1, loss = 314.1988)\n",
            "Saving model (epoch =    2, loss = 305.5474)\n",
            "Saving model (epoch =    3, loss = 303.0509)\n",
            "Saving model (epoch =    4, loss = 299.9303)\n",
            "Saving model (epoch =    8, loss = 298.4562)\n",
            "Saving model (epoch =   10, loss = 296.1494)\n",
            "Saving model (epoch =   11, loss = 292.2163)\n",
            "Saving model (epoch =   12, loss = 290.4170)\n",
            "Saving model (epoch =   13, loss = 288.5070)\n",
            "Saving model (epoch =   14, loss = 282.3583)\n",
            "Saving model (epoch =   15, loss = 279.4553)\n",
            "Saving model (epoch =   16, loss = 276.8431)\n",
            "Saving model (epoch =   17, loss = 275.1930)\n",
            "Saving model (epoch =   18, loss = 269.1803)\n",
            "Saving model (epoch =   19, loss = 268.0864)\n",
            "Saving model (epoch =   20, loss = 265.3432)\n",
            "Saving model (epoch =   21, loss = 257.0929)\n",
            "Saving model (epoch =   23, loss = 256.1613)\n",
            "Saving model (epoch =   24, loss = 250.2685)\n",
            "Saving model (epoch =   25, loss = 243.0853)\n",
            "Saving model (epoch =   28, loss = 237.3011)\n",
            "Saving model (epoch =   29, loss = 234.8892)\n",
            "Saving model (epoch =   30, loss = 230.8806)\n",
            "Saving model (epoch =   31, loss = 225.9273)\n",
            "Saving model (epoch =   34, loss = 220.5471)\n",
            "Saving model (epoch =   35, loss = 208.2801)\n",
            "Saving model (epoch =   36, loss = 203.1199)\n",
            "Saving model (epoch =   38, loss = 202.3149)\n",
            "Saving model (epoch =   39, loss = 195.8865)\n",
            "Saving model (epoch =   40, loss = 172.7282)\n",
            "Saving model (epoch =   46, loss = 165.8400)\n",
            "Saving model (epoch =   47, loss = 162.1627)\n",
            "Saving model (epoch =   48, loss = 153.0378)\n",
            "Saving model (epoch =   50, loss = 148.9102)\n",
            "Saving model (epoch =   53, loss = 144.0866)\n",
            "Saving model (epoch =   54, loss = 142.6845)\n",
            "Saving model (epoch =   55, loss = 129.3454)\n",
            "Saving model (epoch =   60, loss = 120.3500)\n",
            "Saving model (epoch =   61, loss = 109.0414)\n",
            "Saving model (epoch =   63, loss = 108.7928)\n",
            "Saving model (epoch =   65, loss = 100.9677)\n",
            "Saving model (epoch =   66, loss = 100.9240)\n",
            "Saving model (epoch =   67, loss = 92.6641)\n",
            "Saving model (epoch =   70, loss = 89.7872)\n",
            "Saving model (epoch =   73, loss = 82.6405)\n",
            "Saving model (epoch =   74, loss = 82.3966)\n",
            "Saving model (epoch =   76, loss = 81.0680)\n",
            "Saving model (epoch =   77, loss = 79.4641)\n",
            "Saving model (epoch =   78, loss = 67.3941)\n",
            "Saving model (epoch =   82, loss = 54.1259)\n",
            "Saving model (epoch =   86, loss = 45.8403)\n",
            "Saving model (epoch =   89, loss = 42.0854)\n",
            "Saving model (epoch =   91, loss = 37.0818)\n",
            "Saving model (epoch =   92, loss = 33.0638)\n",
            "Saving model (epoch =   93, loss = 28.8437)\n",
            "Saving model (epoch =   95, loss = 23.9087)\n",
            "Saving model (epoch =  103, loss = 21.6564)\n",
            "Saving model (epoch =  104, loss = 16.4227)\n",
            "Saving model (epoch =  108, loss = 14.6279)\n",
            "Saving model (epoch =  113, loss = 11.3218)\n",
            "Saving model (epoch =  117, loss = 11.3031)\n",
            "Saving model (epoch =  118, loss = 11.0581)\n",
            "Saving model (epoch =  121, loss = 8.2614)\n",
            "Saving model (epoch =  126, loss = 6.5097)\n",
            "Saving model (epoch =  128, loss = 6.2420)\n",
            "Saving model (epoch =  133, loss = 5.9499)\n",
            "Saving model (epoch =  141, loss = 5.8326)\n",
            "Saving model (epoch =  165, loss = 5.5436)\n",
            "Saving model (epoch =  178, loss = 5.4299)\n",
            "Saving model (epoch =  181, loss = 5.3965)\n",
            "Saving model (epoch =  183, loss = 5.2267)\n",
            "Saving model (epoch =  184, loss = 5.2073)\n",
            "Saving model (epoch =  198, loss = 5.0848)\n",
            "Saving model (epoch =  200, loss = 4.9294)\n",
            "Saving model (epoch =  209, loss = 4.8204)\n",
            "Saving model (epoch =  217, loss = 4.5452)\n",
            "Saving model (epoch =  232, loss = 4.2866)\n",
            "Saving model (epoch =  237, loss = 4.2345)\n",
            "Saving model (epoch =  244, loss = 4.0630)\n",
            "Saving model (epoch =  245, loss = 3.9637)\n",
            "Saving model (epoch =  250, loss = 3.6650)\n",
            "Saving model (epoch =  261, loss = 3.5111)\n",
            "Saving model (epoch =  268, loss = 3.5053)\n",
            "Saving model (epoch =  270, loss = 3.3507)\n",
            "Saving model (epoch =  276, loss = 3.2789)\n",
            "Saving model (epoch =  284, loss = 3.1099)\n",
            "Saving model (epoch =  285, loss = 3.0749)\n",
            "Saving model (epoch =  290, loss = 2.9639)\n",
            "Saving model (epoch =  291, loss = 2.9305)\n",
            "Saving model (epoch =  292, loss = 2.8691)\n",
            "Saving model (epoch =  297, loss = 2.6394)\n",
            "Saving model (epoch =  314, loss = 2.3880)\n",
            "Saving model (epoch =  320, loss = 2.3627)\n",
            "Saving model (epoch =  326, loss = 2.3522)\n",
            "Saving model (epoch =  330, loss = 2.2263)\n",
            "Saving model (epoch =  343, loss = 2.1370)\n",
            "Saving model (epoch =  350, loss = 1.9831)\n",
            "Saving model (epoch =  355, loss = 1.9123)\n",
            "Saving model (epoch =  363, loss = 1.8514)\n",
            "Saving model (epoch =  376, loss = 1.8418)\n",
            "Saving model (epoch =  380, loss = 1.6690)\n",
            "Saving model (epoch =  393, loss = 1.6144)\n",
            "Saving model (epoch =  395, loss = 1.5888)\n",
            "Saving model (epoch =  405, loss = 1.5809)\n",
            "Saving model (epoch =  410, loss = 1.5577)\n",
            "Saving model (epoch =  412, loss = 1.5137)\n",
            "Saving model (epoch =  416, loss = 1.4673)\n",
            "Saving model (epoch =  419, loss = 1.4586)\n",
            "Saving model (epoch =  427, loss = 1.4354)\n",
            "Saving model (epoch =  432, loss = 1.3296)\n",
            "Saving model (epoch =  441, loss = 1.3030)\n",
            "Saving model (epoch =  444, loss = 1.2019)\n",
            "Saving model (epoch =  447, loss = 1.1877)\n",
            "Saving model (epoch =  449, loss = 1.1680)\n",
            "Saving model (epoch =  474, loss = 1.1577)\n",
            "Saving model (epoch =  478, loss = 1.1305)\n",
            "Saving model (epoch =  481, loss = 1.1149)\n",
            "Saving model (epoch =  485, loss = 1.0816)\n",
            "Saving model (epoch =  487, loss = 1.0601)\n",
            "Saving model (epoch =  496, loss = 1.0396)\n",
            "Saving model (epoch =  517, loss = 1.0375)\n",
            "Saving model (epoch =  527, loss = 1.0067)\n",
            "Saving model (epoch =  529, loss = 0.9971)\n",
            "Saving model (epoch =  538, loss = 0.9823)\n",
            "Saving model (epoch =  541, loss = 0.9587)\n",
            "Saving model (epoch =  564, loss = 0.9585)\n",
            "Saving model (epoch =  572, loss = 0.9543)\n",
            "Saving model (epoch =  576, loss = 0.9535)\n",
            "Saving model (epoch =  585, loss = 0.9509)\n",
            "Saving model (epoch =  586, loss = 0.9431)\n",
            "Saving model (epoch =  597, loss = 0.9410)\n",
            "Saving model (epoch =  598, loss = 0.9358)\n",
            "Saving model (epoch =  599, loss = 0.9306)\n",
            "Saving model (epoch =  614, loss = 0.8933)\n",
            "Saving model (epoch =  680, loss = 0.8589)\n",
            "Saving model (epoch =  704, loss = 0.8518)\n",
            "Saving model (epoch =  736, loss = 0.8488)\n",
            "Saving model (epoch =  762, loss = 0.8398)\n",
            "Saving model (epoch =  922, loss = 0.8329)\n",
            "Saving model (epoch = 1602, loss = 0.8326)\n",
            "Finished training after 2603 epochs\n"
          ]
        }
      ],
      "source": [
        "model_loss, model_loss_record = train(tr_set, dv_set, model, config, device)"
      ]
    },
    {
      "cell_type": "code",
      "execution_count": 18,
      "metadata": {
        "colab": {
          "base_uri": "https://localhost:8080/",
          "height": 295
        },
        "id": "hsNO9nnXQBvP",
        "outputId": "1626def6-94c7-4a87-9447-d939f827c8eb"
      },
      "outputs": [
        {
          "data": {
            "image/png": "[encoded data removed]",
            "text/plain": [
              "<Figure size 600x400 with 1 Axes>"
            ]
          },
          "metadata": {},
          "output_type": "display_data"
        }
      ],
      "source": [
        "plot_learning_curve(model_loss_record, title='deep model')"
      ]
    },
    {
      "cell_type": "code",
      "execution_count": 19,
      "metadata": {
        "colab": {
          "base_uri": "https://localhost:8080/",
          "height": 350
        },
        "id": "3iZTVn5WQFpX",
        "outputId": "a2d5e118-559d-45c6-b644-6792af54663d"
      },
      "outputs": [
        {
          "data": {
            "image/png": "[encoded data removed]",
            "text/plain": [
              "<Figure size 500x500 with 1 Axes>"
            ]
          },
          "metadata": {},
          "output_type": "display_data"
        }
      ],
      "source": [
        "del model\n",
        "model = NeuralNet(tr_set.dataset.dim).to(device)\n",
        "ckpt = torch.load(config['save_path'], map_location='cpu')  # Load your best model\n",
        "model.load_state_dict(ckpt)\n",
        "plot_pred(dv_set, model, device)  # Show prediction on the validation set"
      ]
    },
    {
      "attachments": {},
      "cell_type": "markdown",
      "metadata": {
        "id": "aQikz3IPiyPf"
      },
      "source": [
        "# **Testing**\n",
        "The predictions of your model on testing set will be stored at `pred.csv`."
      ]
    },
    {
      "cell_type": "code",
      "execution_count": 20,
      "metadata": {
        "colab": {
          "base_uri": "https://localhost:8080/"
        },
        "id": "O8cTuQjQQOon",
        "outputId": "6bc5de07-4c5a-4e87-9ae3-d09f539c5f2c"
      },
      "outputs": [
        {
          "name": "stdout",
          "output_type": "stream",
          "text": [
            "Saving results to ./output/pred.csv\n"
          ]
        }
      ],
      "source": [
        "def save_pred(preds, file):\n",
        "    ''' Save predictions to specified file '''\n",
        "    print('Saving results to {}'.format(file))\n",
        "    with open(file, 'w') as fp:\n",
        "        writer = csv.writer(fp)\n",
        "        writer.writerow(['id', 'tested_positive'])\n",
        "        for i, p in enumerate(preds):\n",
        "            writer.writerow([i, p])\n",
        "\n",
        "preds = test(tt_set, model, device)  # predict COVID-19 cases with your model\n",
        "save_pred(preds, './output/pred.csv')         # save prediction file to pred.csv"
      ]
    },
    {
      "attachments": {},
      "cell_type": "markdown",
      "metadata": {
        "id": "nfrVxqJanGpE"
      },
      "source": [
        "# **Hints**\n",
        "\n",
        "## **Simple Baseline**\n",
        "* Run sample code\n",
        "\n",
        "## **Medium Baseline**\n",
        "* Feature selection: 40 states + 2 `tested_positive` (`TODO` in dataset)\n",
        "\n",
        "## **Strong Baseline**\n",
        "* Feature selection (what other features are useful?)\n",
        "* DNN architecture (layers? dimension? activation function?)\n",
        "* Training (mini-batch? optimizer? learning rate?)\n",
        "* L2 regularization\n",
        "* There are some mistakes in the sample code, can you find them?"
      ]
    },
    {
      "attachments": {},
      "cell_type": "markdown",
      "metadata": {
        "id": "9tmCwXgpot3t"
      },
      "source": [
        "# **Reference**\n",
        "This code is completely written by Heng-Jui Chang @ NTUEE.  \n",
        "Copying or reusing this code is required to specify the original author. \n",
        "\n",
        "E.g.  \n",
        "Source: Heng-Jui Chang @ NTUEE (https://github.com/ga642381/ML2021-Spring/blob/main/HW01/HW01.ipynb)"
      ]
    }
  ],
  "metadata": {
    "accelerator": "GPU",
    "colab": {
      "authorship_tag": "ABX9TyPuibV8rME8Y2Er3TVnCm93",
      "collapsed_sections": [],
      "include_colab_link": true,
      "name": "ML2021Spring - HW1.ipynb",
      "provenance": [],
      "toc_visible": true
    },
    "kernelspec": {
      "display_name": "Python 3",
      "name": "python3"
    },
    "language_info": {
      "codemirror_mode": {
        "name": "ipython",
        "version": 3
      },
      "file_extension": ".py",
      "mimetype": "text/x-python",
      "name": "python",
      "nbconvert_exporter": "python",
      "pygments_lexer": "ipython3",
      "version": "3.10.9"
    }
  },
  "nbformat": 4,
  "nbformat_minor": 0
}
